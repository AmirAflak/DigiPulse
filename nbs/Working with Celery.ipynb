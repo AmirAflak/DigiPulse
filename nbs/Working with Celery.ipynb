{
 "cells": [
  {
   "cell_type": "code",
   "execution_count": 2,
   "id": "6468388a-e81b-44bb-956c-b78d3671c6ba",
   "metadata": {},
   "outputs": [
    {
     "name": "stdout",
     "output_type": "stream",
     "text": [
      "/home/mehrdad/DigiPulse\n"
     ]
    }
   ],
   "source": [
    "cd /home/mehrdad/DigiPulse"
   ]
  },
  {
   "cell_type": "code",
   "execution_count": 5,
   "id": "dd7390b8-8fac-4058-b439-3931769ad12f",
   "metadata": {},
   "outputs": [],
   "source": [
    "from app.worker import random_task"
   ]
  },
  {
   "cell_type": "code",
   "execution_count": 6,
   "id": "8dcef898-52bc-4b6b-9727-e3bc86155445",
   "metadata": {},
   "outputs": [
    {
     "name": "stdout",
     "output_type": "stream",
     "text": [
      "Got Mehrdad for testing\n"
     ]
    }
   ],
   "source": [
    "random_task(\"Mehrdad\")"
   ]
  },
  {
   "cell_type": "code",
   "execution_count": 8,
   "id": "d43d0f97-15ff-45a9-99be-08270596dade",
   "metadata": {},
   "outputs": [],
   "source": [
    "for i in range(10):\n",
    "    random_task.delay(f\"Mehrdad-{i}\")"
   ]
  },
  {
   "cell_type": "code",
   "execution_count": 9,
   "id": "0b3b7059-c531-40bf-ab40-ff3ccaecb047",
   "metadata": {},
   "outputs": [],
   "source": [
    "for i in range(10):\n",
    "    random_task.apply_async(args=(f\"Mehrdad-{i}\", ), countdown=10)"
   ]
  },
  {
   "cell_type": "code",
   "execution_count": null,
   "id": "0fbb7b2c-1255-4501-a3f8-80643c5acbbb",
   "metadata": {},
   "outputs": [],
   "source": []
  },
  {
   "cell_type": "code",
   "execution_count": null,
   "id": "03a869fe-12b0-4395-9d90-b368c4e52af3",
   "metadata": {},
   "outputs": [],
   "source": []
  },
  {
   "cell_type": "code",
   "execution_count": null,
   "id": "4047a004-25bc-4518-a268-87812bdaca8d",
   "metadata": {},
   "outputs": [],
   "source": []
  }
 ],
 "metadata": {
  "kernelspec": {
   "display_name": "Python 3 (ipykernel)",
   "language": "python",
   "name": "python3"
  },
  "language_info": {
   "codemirror_mode": {
    "name": "ipython",
    "version": 3
   },
   "file_extension": ".py",
   "mimetype": "text/x-python",
   "name": "python",
   "nbconvert_exporter": "python",
   "pygments_lexer": "ipython3",
   "version": "3.10.12"
  }
 },
 "nbformat": 4,
 "nbformat_minor": 5
}

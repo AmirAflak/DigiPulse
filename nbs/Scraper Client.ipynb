{
 "cells": [
  {
   "cell_type": "code",
   "execution_count": 1,
   "id": "7d10d3fb-37c3-44d6-ae39-ce1206728c3d",
   "metadata": {},
   "outputs": [
    {
     "name": "stdout",
     "output_type": "stream",
     "text": [
      "/home/mehrdad/DigiPulse/nbs\n"
     ]
    }
   ],
   "source": [
    "!pwd"
   ]
  },
  {
   "cell_type": "code",
   "execution_count": 2,
   "id": "e8851818-040d-45d3-8a20-4dc8fb3d4eac",
   "metadata": {},
   "outputs": [
    {
     "name": "stdout",
     "output_type": "stream",
     "text": [
      "/home/mehrdad/DigiPulse\n"
     ]
    }
   ],
   "source": [
    "cd ../"
   ]
  },
  {
   "cell_type": "code",
   "execution_count": 3,
   "id": "7d2e4686-22b5-40c5-a037-458b81c76015",
   "metadata": {},
   "outputs": [],
   "source": [
    "from app import scraper\n",
    "from bs4 import BeautifulSoup"
   ]
  },
  {
   "cell_type": "code",
   "execution_count": 4,
   "id": "b068af93-9ef8-4335-ac90-8792b68186ce",
   "metadata": {},
   "outputs": [],
   "source": [
    "url = \"https://www.digikala.com/product/dkp-749878\""
   ]
  },
  {
   "cell_type": "code",
   "execution_count": 5,
   "id": "1b2abf3e-85a2-430a-a165-86acc312a2fe",
   "metadata": {},
   "outputs": [],
   "source": [
    "s = scraper.Scraper(dkp='dkp-11153044', endless_scroll=False)"
   ]
  },
  {
   "cell_type": "code",
   "execution_count": 6,
   "id": "08ebfed3-1db4-4416-ba3c-570280abf6e0",
   "metadata": {
    "scrolled": true
   },
   "outputs": [],
   "source": [
    "html_str = s.perform_scrape()"
   ]
  },
  {
   "cell_type": "code",
   "execution_count": null,
   "id": "515a04b7-f478-4ba1-82de-b877391aa609",
   "metadata": {},
   "outputs": [],
   "source": [
    "html_str"
   ]
  },
  {
   "cell_type": "code",
   "execution_count": null,
   "id": "d9877fd5-7d09-4914-a62b-f9835a69997b",
   "metadata": {},
   "outputs": [],
   "source": []
  },
  {
   "cell_type": "code",
   "execution_count": null,
   "id": "87558d91-34be-4235-95c1-2a12557fb8d5",
   "metadata": {},
   "outputs": [],
   "source": []
  }
 ],
 "metadata": {
  "kernelspec": {
   "display_name": "Python 3 (ipykernel)",
   "language": "python",
   "name": "python3"
  },
  "language_info": {
   "codemirror_mode": {
    "name": "ipython",
    "version": 3
   },
   "file_extension": ".py",
   "mimetype": "text/x-python",
   "name": "python",
   "nbconvert_exporter": "python",
   "pygments_lexer": "ipython3",
   "version": "3.10.12"
  }
 },
 "nbformat": 4,
 "nbformat_minor": 5
}

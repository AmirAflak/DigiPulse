{
 "cells": [
  {
   "cell_type": "code",
   "execution_count": 1,
   "id": "7d10d3fb-37c3-44d6-ae39-ce1206728c3d",
   "metadata": {},
   "outputs": [
    {
     "name": "stdout",
     "output_type": "stream",
     "text": [
      "/home/mehrdad/DigiPulse/nbs\n"
     ]
    }
   ],
   "source": [
    "!pwd"
   ]
  },
  {
   "cell_type": "code",
   "execution_count": 2,
   "id": "e8851818-040d-45d3-8a20-4dc8fb3d4eac",
   "metadata": {},
   "outputs": [
    {
     "name": "stdout",
     "output_type": "stream",
     "text": [
      "/home/mehrdad/DigiPulse\n"
     ]
    }
   ],
   "source": [
    "cd ../"
   ]
  },
  {
   "cell_type": "code",
   "execution_count": 3,
   "id": "0cb1e653-3b19-4622-a802-d8e774de5108",
   "metadata": {},
   "outputs": [],
   "source": [
    "from app import scraper"
   ]
  },
  {
   "cell_type": "code",
   "execution_count": 4,
   "id": "c6916559-59c1-4445-ad36-dfd006d80661",
   "metadata": {},
   "outputs": [
    {
     "name": "stdout",
     "output_type": "stream",
     "text": [
      "# conda environments:\n",
      "#\n",
      "base                     /home/mehrdad/miniconda3\n",
      "DE                       /home/mehrdad/miniconda3/envs/DE\n",
      "chat-downloader          /home/mehrdad/miniconda3/envs/chat-downloader\n",
      "nosql_fastapi         *  /home/mehrdad/miniconda3/envs/nosql_fastapi\n",
      "\n"
     ]
    }
   ],
   "source": [
    "!conda env list"
   ]
  },
  {
   "cell_type": "code",
   "execution_count": 5,
   "id": "b068af93-9ef8-4335-ac90-8792b68186ce",
   "metadata": {},
   "outputs": [],
   "source": [
    "url = \"https://www.digikala.com/product/dkp-12565663/\"\n",
    "# url = \"https://api.digikala.com/v1/product/3689236\""
   ]
  },
  {
   "cell_type": "code",
   "execution_count": 6,
   "id": "1b2abf3e-85a2-430a-a165-86acc312a2fe",
   "metadata": {},
   "outputs": [],
   "source": [
    "s = scraper.Scraper(url=url, endless_scroll=True).get()"
   ]
  },
  {
   "cell_type": "code",
   "execution_count": 7,
   "id": "08ebfed3-1db4-4416-ba3c-570280abf6e0",
   "metadata": {},
   "outputs": [
    {
     "data": {
      "text/plain": [
       "'<html lang=\"fa\" dir=\"rtl\" style=\"--window-inner-height: 600px;\"><head><script async=\"\" src=\"https://www.googletagmanager.com/gtm.js?id=GTM-TJWK7Z7\"></script><script>(function(w,d,s,l,i){w[l]=w[l]||[];w[l].push({\\'gtm.start\\':\\nnew Date().getTime(),event:\\'gtm.js\\'});var f=d.getElementsByTagName(s)[0],\\nj=d.createElement(s),dl=l!=\\'dataLayer\\'?\\'&l=\\'+l:\\'\\';j.async=true;j.src=\\n\\'https://www.googletagmanager.com/gtm.js?id=\\'+i+dl;f.parentNode.insertBefore(j,f);\\n})(window,document,\\'script\\',\\'dataLayer\\',\\'GTM-TJWK7Z7\\');</script><meta charset=\"utf-8\"><meta name=\"viewport\" content=\"width=device-width, initial-scale=1.0, maximum-scale=1.0, user-scalable=no, viewport-fit=cover\"><meta name=\"mobile-web-app-capable\" content=\"yes\"><meta name=\"apple-touch-fullscreen\" content=\"yes\"><meta name=\"apple-mobile-web-app-title\" content=\"Digikala\"><meta name=\"apple-mobile-web-app-capable\" content=\"yes\"><meta name=\"description\" content=\"هر آنچه که نیاز دارید با بهترین قیمت از دیجی\\u200cکالا بخرید! جدیدترین انواع گوشی موبایل، لپ تاپ، لباس، لوازم آرایشی و بهداشتی، کتاب، لوازم خانگی، خودرو و... با امکان تعویض و مرجوعی آسان | ✓ارسال رايگان ✓پرداخت در محل ✓ضمانت بازگشت کالا - برای خرید کلیک کنید!\"><meta name=\"msvalidate.01\" content=\"15B2F9DC1A9D64AEB0134F21A3D8A683\"><meta name=\"fontiran.com:license\" content=\"THJBT\"><meta name=\"msapplication-TileColor\" content=\"#ffffff\"><meta name=\"msapplication-TileImage\" content=\"/ms-icon-144x144.png\"><meta name=\"theme-color\" content=\"#ef394e\"><meta name=\"msapplication-navbutton-color\" content=\"#ef394e\"><meta name=\"apple-mobile-web-app-status-bar-style\" content=\"#ef394e\"><link rel=\"manifest\" href=\"/manifest.json\"><link rel=\"apple-touch-icon\" href=\"/pwa-icon-180.png\"><link rel=\"apple-touch-startup-image\" href=\"/splash/2048x2732.png\" media=\"(device-width: 1024px) and (device-height: 1366px) and (-webkit-device-pixel-ratio: 2) and (orientation: portrait)\"><link rel=\"apple-touch-startup-image\" href=\"/splash/1668x2224.png\" media=\"(device-width: 834px) and (device-height: 1194px) and (-webkit-device-pixel-ratio: 2) and (orientation: portrait)\"><link rel=\"apple-touch-startup-image\" href=\"/splash/1536x2048.png\" media=\"(device-width: 768px) and (device-height: 1024px) and (-webkit-device-pixel-ratio: 2) and (orientation: portrait)\"><link rel=\"apple-touch-startup-image\" href=\"/splash/1668x2224.png\" media=\"(device-width: 834px) and (device-height: 1112px) and (-webkit-device-pixel-ratio: 2) and (orientation: portrait)\"><link rel=\"apple-touch-startup-image\" href=\"/splash/1620x2160.png\" media=\"(device-width: 810px) and (device-height: 1080px) and (-webkit-device-pixel-ratio: 2) and (orientation: portrait)\"><link rel=\"apple-touch-startup-image\" href=\"/splash/1290x2796.png\" media=\"(device-width: 430px) and (device-height: 932px) and (-webkit-device-pixel-ratio: 3) and (orientation: portrait)\"><link rel=\"apple-touch-startup-image\" href=\"/splash/1179x2556.png\" media=\"(device-width: 393px) and (device-height: 852px) and (-webkit-device-pixel-ratio: 3) and (orientation: portrait)\"><link rel=\"apple-touch-startup-image\" href=\"/splash/1284x2778.png\" media=\"(device-width: 428px) and (device-height: 926px) and (-webkit-device-pixel-ratio: 3) and (orientation: portrait)\"><link rel=\"apple-touch-startup-image\" href=\"/splash/1170x2532.png\" media=\"(device-width: 390px) and (device-height: 844px) and (-webkit-device-pixel-ratio: 3) and (orientation: portrait)\"><link rel=\"apple-touch-startup-image\" href=\"/splash/1125x2436.png\" media=\"(device-width: 375px) and (device-height: 812px) and (-webkit-device-pixel-ratio: 3) and (orientation: portrait)\"><link rel=\"apple-touch-startup-image\" href=\"/splash/1242x2688.png\" media=\"(device-width: 414px) and (device-height: 896px) and (-webkit-device-pixel-ratio: 3) and (orientation: portrait)\"><link rel=\"apple-touch-startup-image\" href=\"/splash/828x1792.png\" media=\"(device-width: 414px) and (device-height: 896px) and (-webkit-device-pixel-ratio: 2) and (orientation: portrait)\"><link rel=\"apple-touch-startup-image\" href=\"/splash/1242x2208.png\" media=\"(device-width: 414px) and (device-height: 736px) and (-webkit-device-pixel-ratio: 3) and (orientation: portrait)\"><link rel=\"apple-touch-startup-image\" href=\"/splash/750x1334.png\" media=\"(device-width: 375px) and (device-height: 667px) and (-webkit-device-pixel-ratio: 2) and (orientation: portrait)\"><link rel=\"apple-touch-startup-image\" href=\"/splash/640x1136.png\" media=\"(device-width: 320px) and (device-height: 568px) and (-webkit-device-pixel-ratio: 2) and (orientation: portrait)\"><link rel=\"preconnect\" href=\"https://dkstatics-public.digikala.com\"><link rel=\"preconnect\" href=\"https://api.digikala.com\"><link rel=\"preconnect\" href=\"https://tracker.digikala.com\"><link rel=\"preconnect\" href=\"https://www.google-analytics.com\"><link rel=\"preconnect\" href=\"https://analytics.google.com\"><link rel=\"preconnect\" href=\"https://www.googletagmanager.com\"><link rel=\"canonical\" href=\"https://www.digikala.com/product/dkp-12565663\"><link rel=\"icon\" type=\"image/png\" sizes=\"192x192\" href=\"/android-icon-192x192.png\"><script>\\n            window.lazySizesConfig = window.lazySizesConfig || {};\\n            window.lazySizesConfig = Object.defineProperty({},\"loadMode\",{\\n                get: function() { return 1; },\\n                set: function(value) { /* Ignore any set value */ }\\n            });\\n            </script><script>\\n              var intrack_config = {\\n                app_key: \\'AAAAAQ\\',\\n                auth_key: \\'9dec6846-d538-4317-a588-7981acc6cc6a\\',\\n                public_key: \\'BAjsvXIpJlVFtBNDjXeJnuUDDctHmp9Tgoz_7eSb6SGXDxauCPpPnv9S8yrXu7UO194G7zTB7CKbWwLwLReRtgM=\\',\\n                nonStandardPhoneValidation: true,\\n                yekta_net_id: \\'intrack_digikala\\',\\n                mediaad_syncing: true,\\n              };\\n              (function (i, n, t, r, a, c, k) {\\n                o = i[\\'InTrack\\'] = i[\\'InTrack\\'] || {}; i[a] = i[a] || function () { (o.q = o.q || []).push(arguments); };\\n                s = n.createElement(t); s.defer = true; s.src = r; s.onload = function () { try { o.init(c) } catch { (err) => {} } };\\n                e = n.getElementsByTagName(t)[0]; e.parentNode.insertBefore(s, k);\\n              })(window, document, \\'script\\', \"//static1.intrack.ir/api/web/download/sdk/v1/inTrack.min.js?v=00\", \"Intk\", intrack_config);</script><meta name=\"next-head-count\" content=\"41\"><link rel=\"preload\" href=\"/_next/static/css/77374ff65b55d311.css\" as=\"style\"><link rel=\"stylesheet\" href=\"/_next/static/css/77374ff65b55d311.css\" data-n-g=\"\"><noscript data-n-css=\"\"></noscript><script defer=\"\" nomodule=\"\" src=\"/_next/static/chunks/polyfills-c67a75d1b6f99dc8.js\"></script><script src=\"/_next/static/chunks/webpack-d6f587ea104f6c60.js\" defer=\"\"></script><script src=\"/_next/static/chunks/framework-35e707db5b77429c.js\" defer=\"\"></script><script src=\"/_next/static/chunks/main-0319193acc4fb322.js\" defer=\"\"></script><script src=\"/_next/static/chunks/pages/_app-bb3a175524a8b5e1.js\" defer=\"\"></script><script src=\"/_next/static/chunks/pages/routing-f9896d223dfe6806.js\" defer=\"\"></script><script src=\"/_next/static/RRir7vp335LRX8O6ssyS8/_buildManifest.js\" defer=\"\"></script><script src=\"/_next/static/RRir7vp335LRX8O6ssyS8/_ssgManifest.js\" defer=\"\"></script><title>فروشگاه اینترنتی دیجی\\u200cکالا</title><script defer=\"\" src=\"//static1.intrack.ir/api/web/download/sdk/v1/inTrack.min.js?v=00\"></script></head><body><noscript><iframe src=\"https://www.googletagmanager.com/ns.html?id=GTM-TJWK7Z7\"\\nheight=\"0\" width=\"0\" style=\"display:none;visibility:hidden\"></iframe></noscript><div id=\"__next\"><div class=\"pos-fixed styles_ServicesLoaderWrapper__loading__7qsCr\"><div class=\"d-flex ai-center jc-center w-100 h-100\"><svg width=\"24\" height=\"24\" id=\"e302pyQgejw1\" xmlns=\"http://www.w3.org/2000/svg\" viewBox=\"0 0 24 24\" shape-rendering=\"geometricPrecision\" text-rendering=\"geometricPrecision\"><path class=\"styles_Loading__circle1__K7HNJ\" d=\"M0,3C0,1.343146,1.343146,0,3,0C4.656854,0,6,1.343146,6,3C6,4.656854,4.656854,6,3,6C1.343146,6,0,4.656854,0,3Z\" transform=\"matrix(1 0 0 1 17 9)\" opacity=\"0.9\" fill=\"#81858b\" stroke=\"none\" stroke-width=\"1\"></path><rect class=\"styles_Loading__circle2__jpl_q\" width=\"6\" height=\"6\" rx=\"3\" ry=\"3\" transform=\"matrix(1 0 0 1 9 9)\" opacity=\"0.6\" fill=\"#81858b\" stroke=\"none\" stroke-width=\"1\"></rect><rect class=\"styles_Loading__circle3__otcH4\" width=\"6\" height=\"6\" rx=\"3\" ry=\"3\" transform=\"matrix(1 0 0 1 0.94007500000000 9)\" opacity=\"0.3\" fill=\"#81858b\" stroke=\"none\" stroke-width=\"1\"></rect></svg></div></div></div><script id=\"__NEXT_DATA__\" type=\"application/json\">{\"props\":{\"pageProps\":{}},\"page\":\"/routing\",\"query\":{},\"buildId\":\"RRir7vp335LRX8O6ssyS8\",\"nextExport\":true,\"autoExport\":true,\"isFallback\":false,\"scriptLoader\":[]}</script><next-route-announcer><p aria-live=\"assertive\" id=\"__next-route-announcer__\" role=\"alert\" style=\"border: 0px; clip: rect(0px, 0px, 0px, 0px); height: 1px; margin: -1px; overflow: hidden; padding: 0px; position: absolute; width: 1px; white-space: nowrap; overflow-wrap: normal;\"></p></next-route-announcer><script src=\"/_next/static/chunks/36373cd3-4ac242925d3426fb.js\"></script><script src=\"/_next/static/chunks/7025-43da7b39d0520fd2.js\"></script><script src=\"/_next/static/chunks/9526-bf55aa6e302b6561.js\"></script><script src=\"/_next/static/chunks/6057-bdadd2f9b5606fee.js\"></script><script src=\"/_next/static/chunks/3032-c2a4b8ce37c130f4.js\"></script><script src=\"/_next/static/chunks/5832-ee50b27743a6aa0b.js\"></script><script src=\"/_next/static/chunks/1708-3e0b5a5e44d27350.js\"></script><script src=\"/_next/static/chunks/4695-6b63924bf7edcede.js\"></script><script src=\"/_next/static/chunks/6766-d372f7206e17a20a.js\"></script><script src=\"/_next/static/chunks/pages/product/%5B...productParams%5D-cd95b5e47d48e583.js\"></script></body></html>'"
      ]
     },
     "execution_count": 7,
     "metadata": {},
     "output_type": "execute_result"
    }
   ],
   "source": [
    "s"
   ]
  },
  {
   "cell_type": "code",
   "execution_count": 8,
   "id": "485b5914-2d87-423e-827e-f34750430ac5",
   "metadata": {},
   "outputs": [],
   "source": [
    "driver.get(url)"
   ]
  },
  {
   "cell_type": "code",
   "execution_count": 9,
   "id": "b9b963c4-4c89-4b68-9041-9792abfc6ccd",
   "metadata": {},
   "outputs": [],
   "source": [
    "page_source = driver.page_source"
   ]
  },
  {
   "cell_type": "code",
   "execution_count": 10,
   "id": "1008049a-9fe2-496b-9a17-83010ca0de43",
   "metadata": {
    "scrolled": true
   },
   "outputs": [
    {
     "data": {
      "text/plain": [
       "'<html lang=\"fa\" dir=\"rtl\" style=\"--window-inner-height: 600px;\"><head><script async=\"\" src=\"https://www.googletagmanager.com/gtm.js?id=GTM-TJWK7Z7\"></script><script>(function(w,d,s,l,i){w[l]=w[l]||[];w[l].push({\\'gtm.start\\':\\nnew Date().getTime(),event:\\'gtm.js\\'});var f=d.getElementsByTagName(s)[0],\\nj=d.createElement(s),dl=l!=\\'dataLayer\\'?\\'&l=\\'+l:\\'\\';j.async=true;j.src=\\n\\'https://www.googletagmanager.com/gtm.js?id=\\'+i+dl;f.parentNode.insertBefore(j,f);\\n})(window,document,\\'script\\',\\'dataLayer\\',\\'GTM-TJWK7Z7\\');</script><meta charset=\"utf-8\"><meta name=\"viewport\" content=\"width=device-width, initial-scale=1.0, maximum-scale=1.0, user-scalable=no, viewport-fit=cover\"><meta name=\"mobile-web-app-capable\" content=\"yes\"><meta name=\"apple-touch-fullscreen\" content=\"yes\"><meta name=\"apple-mobile-web-app-title\" content=\"Digikala\"><meta name=\"apple-mobile-web-app-capable\" content=\"yes\"><meta name=\"description\" content=\"هر آنچه که نیاز دارید با بهترین قیمت از دیجی\\u200cکالا بخرید! جدیدترین انواع گوشی موبایل، لپ تاپ، لباس، لوازم آرایشی و بهداشتی، کتاب، لوازم خانگی، خودرو و... با امکان تعویض و مرجوعی آسان | ✓ارسال رايگان ✓پرداخت در محل ✓ضمانت بازگشت کالا - برای خرید کلیک کنید!\"><meta name=\"msvalidate.01\" content=\"15B2F9DC1A9D64AEB0134F21A3D8A683\"><meta name=\"fontiran.com:license\" content=\"THJBT\"><meta name=\"msapplication-TileColor\" content=\"#ffffff\"><meta name=\"msapplication-TileImage\" content=\"/ms-icon-144x144.png\"><meta name=\"theme-color\" content=\"#ef394e\"><meta name=\"msapplication-navbutton-color\" content=\"#ef394e\"><meta name=\"apple-mobile-web-app-status-bar-style\" content=\"#ef394e\"><link rel=\"manifest\" href=\"/manifest.json\"><link rel=\"apple-touch-icon\" href=\"/pwa-icon-180.png\"><link rel=\"apple-touch-startup-image\" href=\"/splash/2048x2732.png\" media=\"(device-width: 1024px) and (device-height: 1366px) and (-webkit-device-pixel-ratio: 2) and (orientation: portrait)\"><link rel=\"apple-touch-startup-image\" href=\"/splash/1668x2224.png\" media=\"(device-width: 834px) and (device-height: 1194px) and (-webkit-device-pixel-ratio: 2) and (orientation: portrait)\"><link rel=\"apple-touch-startup-image\" href=\"/splash/1536x2048.png\" media=\"(device-width: 768px) and (device-height: 1024px) and (-webkit-device-pixel-ratio: 2) and (orientation: portrait)\"><link rel=\"apple-touch-startup-image\" href=\"/splash/1668x2224.png\" media=\"(device-width: 834px) and (device-height: 1112px) and (-webkit-device-pixel-ratio: 2) and (orientation: portrait)\"><link rel=\"apple-touch-startup-image\" href=\"/splash/1620x2160.png\" media=\"(device-width: 810px) and (device-height: 1080px) and (-webkit-device-pixel-ratio: 2) and (orientation: portrait)\"><link rel=\"apple-touch-startup-image\" href=\"/splash/1290x2796.png\" media=\"(device-width: 430px) and (device-height: 932px) and (-webkit-device-pixel-ratio: 3) and (orientation: portrait)\"><link rel=\"apple-touch-startup-image\" href=\"/splash/1179x2556.png\" media=\"(device-width: 393px) and (device-height: 852px) and (-webkit-device-pixel-ratio: 3) and (orientation: portrait)\"><link rel=\"apple-touch-startup-image\" href=\"/splash/1284x2778.png\" media=\"(device-width: 428px) and (device-height: 926px) and (-webkit-device-pixel-ratio: 3) and (orientation: portrait)\"><link rel=\"apple-touch-startup-image\" href=\"/splash/1170x2532.png\" media=\"(device-width: 390px) and (device-height: 844px) and (-webkit-device-pixel-ratio: 3) and (orientation: portrait)\"><link rel=\"apple-touch-startup-image\" href=\"/splash/1125x2436.png\" media=\"(device-width: 375px) and (device-height: 812px) and (-webkit-device-pixel-ratio: 3) and (orientation: portrait)\"><link rel=\"apple-touch-startup-image\" href=\"/splash/1242x2688.png\" media=\"(device-width: 414px) and (device-height: 896px) and (-webkit-device-pixel-ratio: 3) and (orientation: portrait)\"><link rel=\"apple-touch-startup-image\" href=\"/splash/828x1792.png\" media=\"(device-width: 414px) and (device-height: 896px) and (-webkit-device-pixel-ratio: 2) and (orientation: portrait)\"><link rel=\"apple-touch-startup-image\" href=\"/splash/1242x2208.png\" media=\"(device-width: 414px) and (device-height: 736px) and (-webkit-device-pixel-ratio: 3) and (orientation: portrait)\"><link rel=\"apple-touch-startup-image\" href=\"/splash/750x1334.png\" media=\"(device-width: 375px) and (device-height: 667px) and (-webkit-device-pixel-ratio: 2) and (orientation: portrait)\"><link rel=\"apple-touch-startup-image\" href=\"/splash/640x1136.png\" media=\"(device-width: 320px) and (device-height: 568px) and (-webkit-device-pixel-ratio: 2) and (orientation: portrait)\"><link rel=\"preconnect\" href=\"https://dkstatics-public.digikala.com\"><link rel=\"preconnect\" href=\"https://api.digikala.com\"><link rel=\"preconnect\" href=\"https://tracker.digikala.com\"><link rel=\"preconnect\" href=\"https://www.google-analytics.com\"><link rel=\"preconnect\" href=\"https://analytics.google.com\"><link rel=\"preconnect\" href=\"https://www.googletagmanager.com\"><link rel=\"canonical\" href=\"https://www.digikala.com/product/dkp-12565663\"><link rel=\"icon\" type=\"image/png\" sizes=\"192x192\" href=\"/android-icon-192x192.png\"><script>\\n            window.lazySizesConfig = window.lazySizesConfig || {};\\n            window.lazySizesConfig = Object.defineProperty({},\"loadMode\",{\\n                get: function() { return 1; },\\n                set: function(value) { /* Ignore any set value */ }\\n            });\\n            </script><script>\\n              var intrack_config = {\\n                app_key: \\'AAAAAQ\\',\\n                auth_key: \\'9dec6846-d538-4317-a588-7981acc6cc6a\\',\\n                public_key: \\'BAjsvXIpJlVFtBNDjXeJnuUDDctHmp9Tgoz_7eSb6SGXDxauCPpPnv9S8yrXu7UO194G7zTB7CKbWwLwLReRtgM=\\',\\n                nonStandardPhoneValidation: true,\\n                yekta_net_id: \\'intrack_digikala\\',\\n                mediaad_syncing: true,\\n              };\\n              (function (i, n, t, r, a, c, k) {\\n                o = i[\\'InTrack\\'] = i[\\'InTrack\\'] || {}; i[a] = i[a] || function () { (o.q = o.q || []).push(arguments); };\\n                s = n.createElement(t); s.defer = true; s.src = r; s.onload = function () { try { o.init(c) } catch { (err) => {} } };\\n                e = n.getElementsByTagName(t)[0]; e.parentNode.insertBefore(s, k);\\n              })(window, document, \\'script\\', \"//static1.intrack.ir/api/web/download/sdk/v1/inTrack.min.js?v=00\", \"Intk\", intrack_config);</script><meta name=\"next-head-count\" content=\"41\"><link rel=\"preload\" href=\"/_next/static/css/77374ff65b55d311.css\" as=\"style\"><link rel=\"stylesheet\" href=\"/_next/static/css/77374ff65b55d311.css\" data-n-g=\"\"><noscript data-n-css=\"\"></noscript><script defer=\"\" nomodule=\"\" src=\"/_next/static/chunks/polyfills-c67a75d1b6f99dc8.js\"></script><script src=\"/_next/static/chunks/webpack-d6f587ea104f6c60.js\" defer=\"\"></script><script src=\"/_next/static/chunks/framework-35e707db5b77429c.js\" defer=\"\"></script><script src=\"/_next/static/chunks/main-0319193acc4fb322.js\" defer=\"\"></script><script src=\"/_next/static/chunks/pages/_app-bb3a175524a8b5e1.js\" defer=\"\"></script><script src=\"/_next/static/chunks/pages/routing-f9896d223dfe6806.js\" defer=\"\"></script><script src=\"/_next/static/RRir7vp335LRX8O6ssyS8/_buildManifest.js\" defer=\"\"></script><script src=\"/_next/static/RRir7vp335LRX8O6ssyS8/_ssgManifest.js\" defer=\"\"></script><title>فروشگاه اینترنتی دیجی\\u200cکالا</title><script defer=\"\" src=\"//static1.intrack.ir/api/web/download/sdk/v1/inTrack.min.js?v=00\"></script></head><body><noscript><iframe src=\"https://www.googletagmanager.com/ns.html?id=GTM-TJWK7Z7\"\\nheight=\"0\" width=\"0\" style=\"display:none;visibility:hidden\"></iframe></noscript><div id=\"__next\"><div class=\"pos-fixed styles_ServicesLoaderWrapper__loading__7qsCr\"><div class=\"d-flex ai-center jc-center w-100 h-100\"><svg width=\"24\" height=\"24\" id=\"e302pyQgejw1\" xmlns=\"http://www.w3.org/2000/svg\" viewBox=\"0 0 24 24\" shape-rendering=\"geometricPrecision\" text-rendering=\"geometricPrecision\"><path class=\"styles_Loading__circle1__K7HNJ\" d=\"M0,3C0,1.343146,1.343146,0,3,0C4.656854,0,6,1.343146,6,3C6,4.656854,4.656854,6,3,6C1.343146,6,0,4.656854,0,3Z\" transform=\"matrix(1 0 0 1 17 9)\" opacity=\"0.9\" fill=\"#81858b\" stroke=\"none\" stroke-width=\"1\"></path><rect class=\"styles_Loading__circle2__jpl_q\" width=\"6\" height=\"6\" rx=\"3\" ry=\"3\" transform=\"matrix(1 0 0 1 9 9)\" opacity=\"0.6\" fill=\"#81858b\" stroke=\"none\" stroke-width=\"1\"></rect><rect class=\"styles_Loading__circle3__otcH4\" width=\"6\" height=\"6\" rx=\"3\" ry=\"3\" transform=\"matrix(1 0 0 1 0.94007500000000 9)\" opacity=\"0.3\" fill=\"#81858b\" stroke=\"none\" stroke-width=\"1\"></rect></svg></div></div></div><script id=\"__NEXT_DATA__\" type=\"application/json\">{\"props\":{\"pageProps\":{}},\"page\":\"/routing\",\"query\":{},\"buildId\":\"RRir7vp335LRX8O6ssyS8\",\"nextExport\":true,\"autoExport\":true,\"isFallback\":false,\"scriptLoader\":[]}</script><next-route-announcer><p aria-live=\"assertive\" id=\"__next-route-announcer__\" role=\"alert\" style=\"border: 0px; clip: rect(0px, 0px, 0px, 0px); height: 1px; margin: -1px; overflow: hidden; padding: 0px; position: absolute; width: 1px; white-space: nowrap; overflow-wrap: normal;\"></p></next-route-announcer><script src=\"/_next/static/chunks/36373cd3-4ac242925d3426fb.js\"></script><script src=\"/_next/static/chunks/7025-43da7b39d0520fd2.js\"></script><script src=\"/_next/static/chunks/9526-bf55aa6e302b6561.js\"></script><script src=\"/_next/static/chunks/6057-bdadd2f9b5606fee.js\"></script><script src=\"/_next/static/chunks/3032-c2a4b8ce37c130f4.js\"></script><script src=\"/_next/static/chunks/5832-ee50b27743a6aa0b.js\"></script><script src=\"/_next/static/chunks/1708-3e0b5a5e44d27350.js\"></script><script src=\"/_next/static/chunks/4695-6b63924bf7edcede.js\"></script><script src=\"/_next/static/chunks/6766-d372f7206e17a20a.js\"></script><script src=\"/_next/static/chunks/pages/product/%5B...productParams%5D-cd95b5e47d48e583.js\"></script></body></html>'"
      ]
     },
     "execution_count": 10,
     "metadata": {},
     "output_type": "execute_result"
    }
   ],
   "source": [
    "page_source"
   ]
  },
  {
   "cell_type": "code",
   "execution_count": null,
   "id": "f5289477-3b1a-4602-8e7e-7c6b2fa054fb",
   "metadata": {},
   "outputs": [],
   "source": []
  }
 ],
 "metadata": {
  "kernelspec": {
   "display_name": "Python 3 (ipykernel)",
   "language": "python",
   "name": "python3"
  },
  "language_info": {
   "codemirror_mode": {
    "name": "ipython",
    "version": 3
   },
   "file_extension": ".py",
   "mimetype": "text/x-python",
   "name": "python",
   "nbconvert_exporter": "python",
   "pygments_lexer": "ipython3",
   "version": "3.10.12"
  }
 },
 "nbformat": 4,
 "nbformat_minor": 5
}

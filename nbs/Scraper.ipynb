{
 "cells": [
  {
   "cell_type": "code",
   "execution_count": 1,
   "id": "7d0d48ab-8498-48c4-9d04-4d7810e96cd8",
   "metadata": {},
   "outputs": [
    {
     "name": "stdout",
     "output_type": "stream",
     "text": [
      "/home/mehrdad/DigiPulse\n"
     ]
    }
   ],
   "source": [
    "cd /home/mehrdad/DigiPulse/"
   ]
  },
  {
   "cell_type": "code",
   "execution_count": 2,
   "id": "0cb1e653-3b19-4622-a802-d8e774de5108",
   "metadata": {},
   "outputs": [],
   "source": [
    "from app import scraper"
   ]
  },
  {
   "cell_type": "code",
   "execution_count": 3,
   "id": "1b2abf3e-85a2-430a-a165-86acc312a2fe",
   "metadata": {},
   "outputs": [],
   "source": [
    "driver = scraper.Scraper().get_driver()"
   ]
  },
  {
   "cell_type": "code",
   "execution_count": 4,
   "id": "08ebfed3-1db4-4416-ba3c-570280abf6e0",
   "metadata": {},
   "outputs": [
    {
     "data": {
      "text/plain": [
       "<selenium.webdriver.chrome.webdriver.WebDriver (session=\"2c86a63481b41596a3f56fbeb4ba0839\")>"
      ]
     },
     "execution_count": 4,
     "metadata": {},
     "output_type": "execute_result"
    }
   ],
   "source": [
    "driver"
   ]
  },
  {
   "cell_type": "code",
   "execution_count": 5,
   "id": "b068af93-9ef8-4335-ac90-8792b68186ce",
   "metadata": {},
   "outputs": [],
   "source": [
    "url = \"https://www.digikala.com/product/dkp-3689236/\""
   ]
  },
  {
   "cell_type": "code",
   "execution_count": null,
   "id": "485b5914-2d87-423e-827e-f34750430ac5",
   "metadata": {},
   "outputs": [],
   "source": [
    "driver.get(url)"
   ]
  },
  {
   "cell_type": "code",
   "execution_count": null,
   "id": "8c65cf8b-f0b4-45c6-a0c7-771aad152219",
   "metadata": {},
   "outputs": [],
   "source": []
  }
 ],
 "metadata": {
  "kernelspec": {
   "display_name": "Python 3 (ipykernel)",
   "language": "python",
   "name": "python3"
  },
  "language_info": {
   "codemirror_mode": {
    "name": "ipython",
    "version": 3
   },
   "file_extension": ".py",
   "mimetype": "text/x-python",
   "name": "python",
   "nbconvert_exporter": "python",
   "pygments_lexer": "ipython3",
   "version": "3.10.12"
  }
 },
 "nbformat": 4,
 "nbformat_minor": 5
}

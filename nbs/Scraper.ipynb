{
 "cells": [
  {
   "cell_type": "code",
   "execution_count": null,
   "id": "7d10d3fb-37c3-44d6-ae39-ce1206728c3d",
   "metadata": {},
   "outputs": [],
   "source": [
    "!pwd"
   ]
  },
  {
   "cell_type": "code",
   "execution_count": null,
   "id": "e8851818-040d-45d3-8a20-4dc8fb3d4eac",
   "metadata": {},
   "outputs": [],
   "source": [
    "cd ../"
   ]
  },
  {
   "cell_type": "code",
   "execution_count": null,
   "id": "0cb1e653-3b19-4622-a802-d8e774de5108",
   "metadata": {},
   "outputs": [],
   "source": [
    "from app import scraper\n",
    "from bs4 import BeautifulSoup"
   ]
  },
  {
   "cell_type": "code",
   "execution_count": null,
   "id": "c6916559-59c1-4445-ad36-dfd006d80661",
   "metadata": {},
   "outputs": [],
   "source": [
    "!conda env list"
   ]
  },
  {
   "cell_type": "code",
   "execution_count": null,
   "id": "b068af93-9ef8-4335-ac90-8792b68186ce",
   "metadata": {},
   "outputs": [],
   "source": [
    "url = \"https://www.digikala.com/product/dkp-11153044/\"\n",
    "dkp ='dkp-11153044'"
   ]
  },
  {
   "cell_type": "code",
   "execution_count": null,
   "id": "1b2abf3e-85a2-430a-a165-86acc312a2fe",
   "metadata": {},
   "outputs": [],
   "source": [
    "s = scraper.Scraper(dkp=url, endless_scroll=True)"
   ]
  },
  {
   "cell_type": "code",
   "execution_count": null,
   "id": "08ebfed3-1db4-4416-ba3c-570280abf6e0",
   "metadata": {},
   "outputs": [],
   "source": [
    "html_str = s.get()\n",
    "html_str"
   ]
  },
  {
   "cell_type": "code",
   "execution_count": null,
   "id": "d7540b56-ad60-47a9-b6be-b9d2bb7924b8",
   "metadata": {},
   "outputs": [],
   "source": [
    "soup = BeautifulSoup(html_str, \"html.parser\") \n",
    "\n",
    "el = soup.find(\"span\", {\"data-testid\": \"PDP_TITLE\"})\n",
    "print(el)"
   ]
  },
  {
   "cell_type": "code",
   "execution_count": null,
   "id": "852c37a7-2d80-4ad0-96a2-6960003711d2",
   "metadata": {},
   "outputs": [],
   "source": []
  },
  {
   "cell_type": "code",
   "execution_count": null,
   "id": "52315284-b8b8-4c7a-b7e7-119306bb0e23",
   "metadata": {},
   "outputs": [],
   "source": []
  },
  {
   "cell_type": "code",
   "execution_count": null,
   "id": "30975f3c-2504-480b-859a-a5372edf46e8",
   "metadata": {},
   "outputs": [],
   "source": []
  }
 ],
 "metadata": {
  "kernelspec": {
   "display_name": "Python 3 (ipykernel)",
   "language": "python",
   "name": "python3"
  },
  "language_info": {
   "codemirror_mode": {
    "name": "ipython",
    "version": 3
   },
   "file_extension": ".py",
   "mimetype": "text/x-python",
   "name": "python",
   "nbconvert_exporter": "python",
   "pygments_lexer": "ipython3",
   "version": "3.10.12"
  }
 },
 "nbformat": 4,
 "nbformat_minor": 5
}

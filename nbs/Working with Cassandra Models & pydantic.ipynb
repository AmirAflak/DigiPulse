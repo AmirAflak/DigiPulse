{
 "cells": [
  {
   "cell_type": "code",
   "execution_count": null,
   "id": "d0cf8160-6401-4fbd-9df4-ee0ad89b2f23",
   "metadata": {},
   "outputs": [],
   "source": [
    "cd .. "
   ]
  },
  {
   "cell_type": "code",
   "execution_count": null,
   "id": "a8cebf7b-a490-445d-9091-b6bea0553b86",
   "metadata": {},
   "outputs": [],
   "source": [
    "import uuid\n",
    "from app import db, crud, models, schema"
   ]
  },
  {
   "cell_type": "code",
   "execution_count": null,
   "id": "b7172625-0989-484e-8c7c-698373118874",
   "metadata": {},
   "outputs": [],
   "source": [
    "session = db.get_session()"
   ]
  },
  {
   "cell_type": "code",
   "execution_count": null,
   "id": "8c61cc16-661b-45a1-9e2f-167b05246d13",
   "metadata": {},
   "outputs": [],
   "source": [
    "data = models.data\n",
    "data"
   ]
  },
  {
   "cell_type": "code",
   "execution_count": null,
   "id": "c7be5972-9490-4d53-8db9-38350888291b",
   "metadata": {},
   "outputs": [],
   "source": [
    "from pydantic import BaseModel"
   ]
  },
  {
   "cell_type": "code",
   "execution_count": null,
   "id": "8ac42c3a-76ca-46ff-b440-95c73bdb5718",
   "metadata": {},
   "outputs": [],
   "source": [
    "class ProductBaseModel(BaseModel):\n",
    "    dkp: str\n",
    "    title: str"
   ]
  },
  {
   "cell_type": "code",
   "execution_count": null,
   "id": "efaf5d73-a972-4052-a62f-2d1410730d45",
   "metadata": {},
   "outputs": [],
   "source": [
    "product = ProductBaseModel(**data)\n",
    "product.dict()"
   ]
  },
  {
   "cell_type": "code",
   "execution_count": null,
   "id": "9efea992-8be9-44c8-8091-955e0a80ca15",
   "metadata": {},
   "outputs": [],
   "source": [
    "from pydantic import ValidationError\n",
    "\n",
    "data = dict(data)\n",
    "data['uuid'] = uuid.uuid1()\n",
    "try:\n",
    "    schema.ProductScrapeEventSchema(**data)\n",
    "except ValidationError as ex: \n",
    "    print(ex.json())"
   ]
  },
  {
   "cell_type": "code",
   "execution_count": null,
   "id": "0f4a90d7-da98-4c47-bf31-22fb74abf18c",
   "metadata": {},
   "outputs": [],
   "source": []
  },
  {
   "cell_type": "code",
   "execution_count": null,
   "id": "17e20798-3c3a-4197-a092-4102c74e25ca",
   "metadata": {},
   "outputs": [],
   "source": []
  }
 ],
 "metadata": {
  "kernelspec": {
   "display_name": "Python 3 (ipykernel)",
   "language": "python",
   "name": "python3"
  },
  "language_info": {
   "codemirror_mode": {
    "name": "ipython",
    "version": 3
   },
   "file_extension": ".py",
   "mimetype": "text/x-python",
   "name": "python",
   "nbconvert_exporter": "python",
   "pygments_lexer": "ipython3",
   "version": "3.10.12"
  }
 },
 "nbformat": 4,
 "nbformat_minor": 5
}

{
 "cells": [
  {
   "cell_type": "code",
   "execution_count": null,
   "id": "7d10d3fb-37c3-44d6-ae39-ce1206728c3d",
   "metadata": {},
   "outputs": [],
   "source": [
    "!pwd"
   ]
  },
  {
   "cell_type": "code",
   "execution_count": null,
   "id": "e8851818-040d-45d3-8a20-4dc8fb3d4eac",
   "metadata": {},
   "outputs": [],
   "source": [
    "cd ../"
   ]
  },
  {
   "cell_type": "code",
   "execution_count": null,
   "id": "7d2e4686-22b5-40c5-a037-458b81c76015",
   "metadata": {},
   "outputs": [],
   "source": [
    "from app import scraper\n",
    "from bs4 import BeautifulSoup\n",
    "import re"
   ]
  },
  {
   "cell_type": "code",
   "execution_count": null,
   "id": "b068af93-9ef8-4335-ac90-8792b68186ce",
   "metadata": {},
   "outputs": [],
   "source": [
    "url = \"https://www.digikala.com/search/category-mobile-phone/product-list/\""
   ]
  },
  {
   "cell_type": "code",
   "execution_count": null,
   "id": "1b2abf3e-85a2-430a-a165-86acc312a2fe",
   "metadata": {},
   "outputs": [],
   "source": [
    "s = scraper.Scraper(url=url, fetch_products=True)"
   ]
  },
  {
   "cell_type": "code",
   "execution_count": null,
   "id": "08ebfed3-1db4-4416-ba3c-570280abf6e0",
   "metadata": {},
   "outputs": [],
   "source": [
    "dkp_list = s.perform_scrape()"
   ]
  },
  {
   "cell_type": "code",
   "execution_count": null,
   "id": "ea26a59d-76d4-4abc-8587-26b8005e47da",
   "metadata": {},
   "outputs": [],
   "source": [
    "dkp_list"
   ]
  },
  {
   "cell_type": "code",
   "execution_count": null,
   "id": "515a04b7-f478-4ba1-82de-b877391aa609",
   "metadata": {},
   "outputs": [],
   "source": [
    "phones = html_str.find_all('a', {'class': 'd-block pointer pos-relative bg-000 overflow-hidden grow-1 py-3 px-4 px-2-lg h-full-md styles_VerticalProductCard--hover__ud7aD'})"
   ]
  },
  {
   "cell_type": "code",
   "execution_count": null,
   "id": "d9877fd5-7d09-4914-a62b-f9835a69997b",
   "metadata": {},
   "outputs": [],
   "source": [
    "dkp_list = []\n",
    "for phone in phones:\n",
    "    string = phone['href']\n",
    "    match = re.search(r\"/product/([a-zA-Z0-9-]+)/\", string)\n",
    "    if match:\n",
    "        result = match.group(1)\n",
    "        # print(string)\n",
    "        dkp_list.append(result)\n",
    "        # print(result)  # Output: dkp-8366616"
   ]
  },
  {
   "cell_type": "code",
   "execution_count": null,
   "id": "87558d91-34be-4235-95c1-2a12557fb8d5",
   "metadata": {},
   "outputs": [],
   "source": [
    "html_str"
   ]
  },
  {
   "cell_type": "code",
   "execution_count": null,
   "id": "5a819854-c0d5-4c81-b16d-f1ab3fc2f9de",
   "metadata": {},
   "outputs": [],
   "source": []
  }
 ],
 "metadata": {
  "kernelspec": {
   "display_name": "Python 3 (ipykernel)",
   "language": "python",
   "name": "python3"
  },
  "language_info": {
   "codemirror_mode": {
    "name": "ipython",
    "version": 3
   },
   "file_extension": ".py",
   "mimetype": "text/x-python",
   "name": "python",
   "nbconvert_exporter": "python",
   "pygments_lexer": "ipython3",
   "version": "3.10.12"
  }
 },
 "nbformat": 4,
 "nbformat_minor": 5
}

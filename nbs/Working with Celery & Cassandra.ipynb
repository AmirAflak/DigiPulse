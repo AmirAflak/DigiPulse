{
 "cells": [
  {
   "cell_type": "code",
   "execution_count": 2,
   "id": "6468388a-e81b-44bb-956c-b78d3671c6ba",
   "metadata": {},
   "outputs": [
    {
     "name": "stdout",
     "output_type": "stream",
     "text": [
      "/home/mehrdad/DigiPulse\n"
     ]
    }
   ],
   "source": [
    "cd /home/mehrdad/DigiPulse"
   ]
  },
  {
   "cell_type": "code",
   "execution_count": 3,
   "id": "dd7390b8-8fac-4058-b439-3931769ad12f",
   "metadata": {},
   "outputs": [],
   "source": [
    "from app.worker import list_products\n",
    "from app.db import get_session"
   ]
  },
  {
   "cell_type": "code",
   "execution_count": 4,
   "id": "cee74a70-6789-40bb-8c2f-8af5aa3071fa",
   "metadata": {},
   "outputs": [],
   "source": [
    "from app.worker import list_products\n",
    "from app.db import get_session"
   ]
  },
  {
   "cell_type": "code",
   "execution_count": 5,
   "id": "1cc05171-6c2a-4772-ac58-5385085210f3",
   "metadata": {},
   "outputs": [],
   "source": [
    "from app.worker import list_products\n",
    "from app.db import get_session"
   ]
  },
  {
   "cell_type": "code",
   "execution_count": 6,
   "id": "7b06ffad-6e8f-4eef-86d0-59fa3855b0d2",
   "metadata": {},
   "outputs": [],
   "source": [
    "session = get_session()"
   ]
  },
  {
   "cell_type": "code",
   "execution_count": 7,
   "id": "8dcef898-52bc-4b6b-9727-e3bc86155445",
   "metadata": {},
   "outputs": [
    {
     "name": "stdout",
     "output_type": "stream",
     "text": [
      "['11400857', '1140052', 'test_http', 'testttt_http', '11400852']\n"
     ]
    }
   ],
   "source": [
    "list_products()"
   ]
  },
  {
   "cell_type": "code",
   "execution_count": 8,
   "id": "25e665e5-ab23-4ab9-8b48-a349fbb0e99a",
   "metadata": {},
   "outputs": [
    {
     "data": {
      "text/plain": [
       "<AsyncResult: 3fc30afc-8a1e-4080-abe0-239cdd5f51b2>"
      ]
     },
     "execution_count": 8,
     "metadata": {},
     "output_type": "execute_result"
    }
   ],
   "source": [
    "list_products.delay()"
   ]
  },
  {
   "cell_type": "code",
   "execution_count": null,
   "id": "0fbb7b2c-1255-4501-a3f8-80643c5acbbb",
   "metadata": {},
   "outputs": [],
   "source": []
  },
  {
   "cell_type": "code",
   "execution_count": null,
   "id": "03a869fe-12b0-4395-9d90-b368c4e52af3",
   "metadata": {},
   "outputs": [],
   "source": []
  },
  {
   "cell_type": "code",
   "execution_count": null,
   "id": "4047a004-25bc-4518-a268-87812bdaca8d",
   "metadata": {},
   "outputs": [],
   "source": []
  }
 ],
 "metadata": {
  "kernelspec": {
   "display_name": "Python 3 (ipykernel)",
   "language": "python",
   "name": "python3"
  },
  "language_info": {
   "codemirror_mode": {
    "name": "ipython",
    "version": 3
   },
   "file_extension": ".py",
   "mimetype": "text/x-python",
   "name": "python",
   "nbconvert_exporter": "python",
   "pygments_lexer": "ipython3",
   "version": "3.10.12"
  }
 },
 "nbformat": 4,
 "nbformat_minor": 5
}

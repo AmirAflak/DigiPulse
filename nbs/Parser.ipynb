{
 "cells": [
  {
   "cell_type": "code",
   "execution_count": null,
   "id": "7d10d3fb-37c3-44d6-ae39-ce1206728c3d",
   "metadata": {},
   "outputs": [],
   "source": [
    "!pwd"
   ]
  },
  {
   "cell_type": "code",
   "execution_count": null,
   "id": "e8851818-040d-45d3-8a20-4dc8fb3d4eac",
   "metadata": {},
   "outputs": [],
   "source": [
    "cd ../"
   ]
  },
  {
   "cell_type": "code",
   "execution_count": null,
   "id": "7d2e4686-22b5-40c5-a037-458b81c76015",
   "metadata": {},
   "outputs": [],
   "source": [
    "from app import scraper\n",
    "from bs4 import BeautifulSoup"
   ]
  },
  {
   "cell_type": "code",
   "execution_count": null,
   "id": "c6916559-59c1-4445-ad36-dfd006d80661",
   "metadata": {},
   "outputs": [],
   "source": [
    "!conda env list"
   ]
  },
  {
   "cell_type": "code",
   "execution_count": null,
   "id": "b068af93-9ef8-4335-ac90-8792b68186ce",
   "metadata": {},
   "outputs": [],
   "source": [
    "url = \"https://www.digikala.com/product/DKP-784830\""
   ]
  },
  {
   "cell_type": "code",
   "execution_count": null,
   "id": "1b2abf3e-85a2-430a-a165-86acc312a2fe",
   "metadata": {},
   "outputs": [],
   "source": [
    "s = scraper.Scraper(url=url, endless_scroll=True)"
   ]
  },
  {
   "cell_type": "code",
   "execution_count": null,
   "id": "08ebfed3-1db4-4416-ba3c-570280abf6e0",
   "metadata": {},
   "outputs": [],
   "source": [
    "html_str = s.get()"
   ]
  },
  {
   "cell_type": "code",
   "execution_count": null,
   "id": "d7540b56-ad60-47a9-b6be-b9d2bb7924b8",
   "metadata": {},
   "outputs": [],
   "source": [
    "soup = BeautifulSoup(html_str, \"html.parser\")"
   ]
  },
  {
   "cell_type": "code",
   "execution_count": null,
   "id": "c50c2d81-5fd8-4119-b733-40a78662ea17",
   "metadata": {},
   "outputs": [],
   "source": [
    "soup.prettify()"
   ]
  },
  {
   "cell_type": "code",
   "execution_count": null,
   "id": "cfb70e0c-a3a4-47ae-864b-c5c85f9af023",
   "metadata": {},
   "outputs": [],
   "source": []
  },
  {
   "cell_type": "code",
   "execution_count": null,
   "id": "76c9715f-fcf7-4786-b341-d8b8f8354a83",
   "metadata": {},
   "outputs": [],
   "source": []
  },
  {
   "cell_type": "code",
   "execution_count": null,
   "id": "f4adaeea-5aad-46c1-a7e6-c4e426927cd9",
   "metadata": {},
   "outputs": [],
   "source": [
    "price_selectors = [\n",
    "    \"span.color-800.ml-1.text-h4\",     # Selector for the first variation\n",
    "    \"span.text-h4.ml-1.color-800\"      # Selector for the second variation\n",
    "]"
   ]
  },
  {
   "cell_type": "code",
   "execution_count": null,
   "id": "528f7746-12d6-414a-b5f2-5ba4ef80d949",
   "metadata": {},
   "outputs": [],
   "source": [
    "price_str = None\n",
    "for selector in price_selectors:\n",
    "    price_element = soup.select_one(selector)\n",
    "    if price_element:\n",
    "        price_str = price_element.text\n",
    "        break\n",
    "\n",
    "# Check if the price was found\n",
    "if price_str:\n",
    "    print(\"Price:\", price_str)\n",
    "else:\n",
    "    print(\"Price element not found.\")"
   ]
  },
  {
   "cell_type": "code",
   "execution_count": null,
   "id": "3e67eafd-28ee-4991-add0-d70b4bed8743",
   "metadata": {},
   "outputs": [],
   "source": [
    "price_str = soup.find(\"span\", {\"class\": \"color-800 ml-1 text-h4\"}).text\n",
    "price_str"
   ]
  },
  {
   "cell_type": "code",
   "execution_count": null,
   "id": "30b92455-2367-40d8-a144-cb1ab833d82a",
   "metadata": {},
   "outputs": [],
   "source": [
    "title_str = soup.find(\"h1\", {\"data-testid\": \"PDP_TITLE\"}).text\n",
    "title_str"
   ]
  },
  {
   "cell_type": "code",
   "execution_count": null,
   "id": "307cadc5-e539-474e-82d4-b7b57661248f",
   "metadata": {},
   "outputs": [],
   "source": [
    "dkp = soup.find(\"span\", {\"class\": \"text-caption color-400\"}).text\n",
    "dkp"
   ]
  },
  {
   "cell_type": "code",
   "execution_count": null,
   "id": "bd119bc3-14ab-46ec-9af6-9cd5ec4847a7",
   "metadata": {},
   "outputs": [],
   "source": []
  }
 ],
 "metadata": {
  "kernelspec": {
   "display_name": "Python 3 (ipykernel)",
   "language": "python",
   "name": "python3"
  },
  "language_info": {
   "codemirror_mode": {
    "name": "ipython",
    "version": 3
   },
   "file_extension": ".py",
   "mimetype": "text/x-python",
   "name": "python",
   "nbconvert_exporter": "python",
   "pygments_lexer": "ipython3",
   "version": "3.10.12"
  }
 },
 "nbformat": 4,
 "nbformat_minor": 5
}

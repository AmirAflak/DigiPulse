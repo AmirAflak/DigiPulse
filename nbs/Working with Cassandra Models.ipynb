{
 "cells": [
  {
   "cell_type": "code",
   "execution_count": 1,
   "id": "d0cf8160-6401-4fbd-9df4-ee0ad89b2f23",
   "metadata": {},
   "outputs": [
    {
     "name": "stdout",
     "output_type": "stream",
     "text": [
      "/home/mehrdad/DigiPulse\n"
     ]
    }
   ],
   "source": [
    "cd .. "
   ]
  },
  {
   "cell_type": "code",
   "execution_count": 2,
   "id": "a8cebf7b-a490-445d-9091-b6bea0553b86",
   "metadata": {},
   "outputs": [],
   "source": [
    "from app import crud, models"
   ]
  },
  {
   "cell_type": "code",
   "execution_count": 3,
   "id": "8c61cc16-661b-45a1-9e2f-167b05246d13",
   "metadata": {},
   "outputs": [
    {
     "data": {
      "text/plain": [
       "{'dkp': '11400857', 'title': 'product 1'}"
      ]
     },
     "execution_count": 3,
     "metadata": {},
     "output_type": "execute_result"
    }
   ],
   "source": [
    "data = models.data\n",
    "data"
   ]
  },
  {
   "cell_type": "code",
   "execution_count": 8,
   "id": "161c32e0-f042-4243-ba6d-7625c4607dc0",
   "metadata": {},
   "outputs": [
    {
     "data": {
      "text/plain": [
       "(Product(dkp='11400857', title='product 1', price_str='-1'),\n",
       " ProductScrapeEvent(uuid=UUID('c7d9868a-363b-11ee-9f88-42010aa40002'), dkp='11400857', title='product 1', price_str='-100'))"
      ]
     },
     "execution_count": 8,
     "metadata": {},
     "output_type": "execute_result"
    }
   ],
   "source": [
    "crud.add_scrape_event(data, fresh=True)"
   ]
  },
  {
   "cell_type": "code",
   "execution_count": 11,
   "id": "b963ab5e-2b67-4936-9b24-2a4ffe95a656",
   "metadata": {},
   "outputs": [
    {
     "data": {
      "text/plain": [
       "{'dkp': '11400857', 'title': 'product 1'}"
      ]
     },
     "execution_count": 11,
     "metadata": {},
     "output_type": "execute_result"
    }
   ],
   "source": [
    "data"
   ]
  },
  {
   "cell_type": "code",
   "execution_count": 12,
   "id": "f47fe648-6a54-4f56-80f0-5e7ad774df4c",
   "metadata": {},
   "outputs": [],
   "source": [
    "dkp = None \n",
    "for obj in models.Product.objects().all():\n",
    "    dkp = obj.dkp"
   ]
  },
  {
   "cell_type": "code",
   "execution_count": 16,
   "id": "d06ed39d-0518-4517-a292-888fde653d23",
   "metadata": {},
   "outputs": [
    {
     "data": {
      "text/plain": [
       "'11400852'"
      ]
     },
     "execution_count": 16,
     "metadata": {},
     "output_type": "execute_result"
    }
   ],
   "source": [
    "dkp"
   ]
  },
  {
   "cell_type": "code",
   "execution_count": 15,
   "id": "a26ae5d6-84e3-4406-a1db-fdc78e6c5dc3",
   "metadata": {},
   "outputs": [
    {
     "name": "stdout",
     "output_type": "stream",
     "text": [
      "11400852 ea19eec2-3638-11ee-9a5e-42010aa40002\n",
      "11400852 e90ee668-3638-11ee-9a5e-42010aa40002\n",
      "11400852 e5c1536a-3638-11ee-9a5e-42010aa40002\n"
     ]
    }
   ],
   "source": [
    "if dkp is not None:\n",
    "    for obj in models.ProductScrapeEvent.objects().filter(dkp=dkp):\n",
    "        print(obj.dkp, obj.uuid)"
   ]
  },
  {
   "cell_type": "code",
   "execution_count": null,
   "id": "f2bbcfe6-01a7-4a5a-b1b5-cb9de086b58e",
   "metadata": {},
   "outputs": [],
   "source": []
  },
  {
   "cell_type": "code",
   "execution_count": null,
   "id": "100210fe-921f-4857-bef6-53179b9fc19b",
   "metadata": {},
   "outputs": [],
   "source": []
  },
  {
   "cell_type": "code",
   "execution_count": null,
   "id": "129dfe77-bffc-4bb4-ac3c-359ccf8df91c",
   "metadata": {},
   "outputs": [],
   "source": []
  }
 ],
 "metadata": {
  "kernelspec": {
   "display_name": "Python 3 (ipykernel)",
   "language": "python",
   "name": "python3"
  },
  "language_info": {
   "codemirror_mode": {
    "name": "ipython",
    "version": 3
   },
   "file_extension": ".py",
   "mimetype": "text/x-python",
   "name": "python",
   "nbconvert_exporter": "python",
   "pygments_lexer": "ipython3",
   "version": "3.10.12"
  }
 },
 "nbformat": 4,
 "nbformat_minor": 5
}

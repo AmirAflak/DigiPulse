{
 "cells": [
  {
   "cell_type": "code",
   "execution_count": 1,
   "id": "d0cf8160-6401-4fbd-9df4-ee0ad89b2f23",
   "metadata": {},
   "outputs": [
    {
     "name": "stdout",
     "output_type": "stream",
     "text": [
      "/home/mehrdad/DigiPulse\n"
     ]
    }
   ],
   "source": [
    "cd .. "
   ]
  },
  {
   "cell_type": "code",
   "execution_count": 7,
   "id": "a8cebf7b-a490-445d-9091-b6bea0553b86",
   "metadata": {},
   "outputs": [],
   "source": [
    "from app import db, crud, models"
   ]
  },
  {
   "cell_type": "code",
   "execution_count": 8,
   "id": "b7172625-0989-484e-8c7c-698373118874",
   "metadata": {},
   "outputs": [],
   "source": [
    "session = db.get_session()"
   ]
  },
  {
   "cell_type": "code",
   "execution_count": 9,
   "id": "8c61cc16-661b-45a1-9e2f-167b05246d13",
   "metadata": {},
   "outputs": [],
   "source": [
    "data = models.data\n",
    "data['price'] = '110000'"
   ]
  },
  {
   "cell_type": "code",
   "execution_count": 10,
   "id": "161c32e0-f042-4243-ba6d-7625c4607dc0",
   "metadata": {},
   "outputs": [
    {
     "name": "stdout",
     "output_type": "stream",
     "text": [
      "Unexpected exception formatting exception. Falling back to standard exception\n"
     ]
    },
    {
     "name": "stderr",
     "output_type": "stream",
     "text": [
      "Traceback (most recent call last):\n",
      "  File \"/home/mehrdad/anaconda3/envs/DE/lib/python3.10/site-packages/IPython/core/interactiveshell.py\", line 3508, in run_code\n",
      "    exec(code_obj, self.user_global_ns, self.user_ns)\n",
      "  File \"/tmp/ipykernel_14885/987622738.py\", line 1, in <module>\n",
      "    crud.add_scrape_event(data, fresh=True)\n",
      "  File \"/home/mehrdad/DigiPulse/app/crud.py\", line 23, in add_scrape_event\n",
      "  File \"/home/mehrdad/DigiPulse/app/crud.py\", line 13, in create_entry\n",
      "    def add_scrape_event(data: dict, fresh=False):\n",
      "  File \"/home/mehrdad/anaconda3/envs/DE/lib/python3.10/site-packages/cassandra/cqlengine/models.py\", line 672, in create\n",
      "    raise ValidationError(\"Incorrect columns passed: {0}\".format(extra_columns))\n",
      "cassandra.cqlengine.ValidationError: Incorrect columns passed: {'price'}\n",
      "\n",
      "During handling of the above exception, another exception occurred:\n",
      "\n",
      "Traceback (most recent call last):\n",
      "  File \"/home/mehrdad/anaconda3/envs/DE/lib/python3.10/site-packages/IPython/core/interactiveshell.py\", line 2105, in showtraceback\n",
      "    stb = self.InteractiveTB.structured_traceback(\n",
      "  File \"/home/mehrdad/anaconda3/envs/DE/lib/python3.10/site-packages/IPython/core/ultratb.py\", line 1428, in structured_traceback\n",
      "    return FormattedTB.structured_traceback(\n",
      "  File \"/home/mehrdad/anaconda3/envs/DE/lib/python3.10/site-packages/IPython/core/ultratb.py\", line 1319, in structured_traceback\n",
      "    return VerboseTB.structured_traceback(\n",
      "  File \"/home/mehrdad/anaconda3/envs/DE/lib/python3.10/site-packages/IPython/core/ultratb.py\", line 1172, in structured_traceback\n",
      "    formatted_exception = self.format_exception_as_a_whole(etype, evalue, etb, number_of_lines_of_context,\n",
      "  File \"/home/mehrdad/anaconda3/envs/DE/lib/python3.10/site-packages/IPython/core/ultratb.py\", line 1087, in format_exception_as_a_whole\n",
      "    frames.append(self.format_record(record))\n",
      "  File \"/home/mehrdad/anaconda3/envs/DE/lib/python3.10/site-packages/IPython/core/ultratb.py\", line 969, in format_record\n",
      "    frame_info.lines, Colors, self.has_colors, lvals\n",
      "  File \"/home/mehrdad/anaconda3/envs/DE/lib/python3.10/site-packages/IPython/core/ultratb.py\", line 792, in lines\n",
      "    return self._sd.lines\n",
      "  File \"/home/mehrdad/anaconda3/envs/DE/lib/python3.10/site-packages/stack_data/utils.py\", line 144, in cached_property_wrapper\n",
      "    value = obj.__dict__[self.func.__name__] = self.func(obj)\n",
      "  File \"/home/mehrdad/anaconda3/envs/DE/lib/python3.10/site-packages/stack_data/core.py\", line 734, in lines\n",
      "    pieces = self.included_pieces\n",
      "  File \"/home/mehrdad/anaconda3/envs/DE/lib/python3.10/site-packages/stack_data/utils.py\", line 144, in cached_property_wrapper\n",
      "    value = obj.__dict__[self.func.__name__] = self.func(obj)\n",
      "  File \"/home/mehrdad/anaconda3/envs/DE/lib/python3.10/site-packages/stack_data/core.py\", line 681, in included_pieces\n",
      "    pos = scope_pieces.index(self.executing_piece)\n",
      "  File \"/home/mehrdad/anaconda3/envs/DE/lib/python3.10/site-packages/stack_data/utils.py\", line 144, in cached_property_wrapper\n",
      "    value = obj.__dict__[self.func.__name__] = self.func(obj)\n",
      "  File \"/home/mehrdad/anaconda3/envs/DE/lib/python3.10/site-packages/stack_data/core.py\", line 660, in executing_piece\n",
      "    return only(\n",
      "  File \"/home/mehrdad/anaconda3/envs/DE/lib/python3.10/site-packages/executing/executing.py\", line 190, in only\n",
      "    raise NotOneValueFound('Expected one value, found 0')\n",
      "executing.executing.NotOneValueFound: Expected one value, found 0\n"
     ]
    }
   ],
   "source": [
    "crud.add_scrape_event(data, fresh=True)"
   ]
  },
  {
   "cell_type": "code",
   "execution_count": 11,
   "id": "b963ab5e-2b67-4936-9b24-2a4ffe95a656",
   "metadata": {},
   "outputs": [
    {
     "data": {
      "text/plain": [
       "{'dkp': '11400857', 'title': 'product 1'}"
      ]
     },
     "execution_count": 11,
     "metadata": {},
     "output_type": "execute_result"
    }
   ],
   "source": [
    "data"
   ]
  },
  {
   "cell_type": "code",
   "execution_count": 12,
   "id": "f47fe648-6a54-4f56-80f0-5e7ad774df4c",
   "metadata": {},
   "outputs": [],
   "source": [
    "dkp = None \n",
    "for obj in models.Product.objects().all():\n",
    "    dkp = obj.dkp"
   ]
  },
  {
   "cell_type": "code",
   "execution_count": 16,
   "id": "d06ed39d-0518-4517-a292-888fde653d23",
   "metadata": {},
   "outputs": [
    {
     "data": {
      "text/plain": [
       "'11400852'"
      ]
     },
     "execution_count": 16,
     "metadata": {},
     "output_type": "execute_result"
    }
   ],
   "source": [
    "dkp"
   ]
  },
  {
   "cell_type": "code",
   "execution_count": 15,
   "id": "a26ae5d6-84e3-4406-a1db-fdc78e6c5dc3",
   "metadata": {},
   "outputs": [
    {
     "name": "stdout",
     "output_type": "stream",
     "text": [
      "11400852 ea19eec2-3638-11ee-9a5e-42010aa40002\n",
      "11400852 e90ee668-3638-11ee-9a5e-42010aa40002\n",
      "11400852 e5c1536a-3638-11ee-9a5e-42010aa40002\n"
     ]
    }
   ],
   "source": [
    "if dkp is not None:\n",
    "    for obj in models.ProductScrapeEvent.objects().filter(dkp=dkp):\n",
    "        print(obj.dkp, obj.uuid)"
   ]
  },
  {
   "cell_type": "code",
   "execution_count": 20,
   "id": "69e7eba0-6998-49ce-a17f-410d91febc10",
   "metadata": {},
   "outputs": [
    {
     "name": "stdout",
     "output_type": "stream",
     "text": [
      "SELECT * FROM scraper_app.product LIMIT 10000\n"
     ]
    }
   ],
   "source": [
    "print(models.Product.objects().all())"
   ]
  },
  {
   "cell_type": "code",
   "execution_count": 23,
   "id": "f2bbcfe6-01a7-4a5a-b1b5-cb9de086b58e",
   "metadata": {},
   "outputs": [
    {
     "name": "stdout",
     "output_type": "stream",
     "text": [
      "{'dkp': '11400857', 'price_str': '-1', 'title': 'product 1'}\n",
      "{'dkp': '1140052', 'price_str': '22000', 'title': 'product x'}\n",
      "{'dkp': '11400852', 'price_str': '22000', 'title': 'product x'}\n"
     ]
    }
   ],
   "source": [
    "q = models.Product.objects().all()\n",
    "cql_query = str(q._select_query())\n",
    "for row in session.execute(cql_query):\n",
    "    print(row)"
   ]
  },
  {
   "cell_type": "code",
   "execution_count": null,
   "id": "100210fe-921f-4857-bef6-53179b9fc19b",
   "metadata": {},
   "outputs": [],
   "source": []
  },
  {
   "cell_type": "code",
   "execution_count": null,
   "id": "129dfe77-bffc-4bb4-ac3c-359ccf8df91c",
   "metadata": {},
   "outputs": [],
   "source": []
  }
 ],
 "metadata": {
  "kernelspec": {
   "display_name": "Python 3 (ipykernel)",
   "language": "python",
   "name": "python3"
  },
  "language_info": {
   "codemirror_mode": {
    "name": "ipython",
    "version": 3
   },
   "file_extension": ".py",
   "mimetype": "text/x-python",
   "name": "python",
   "nbconvert_exporter": "python",
   "pygments_lexer": "ipython3",
   "version": "3.10.12"
  }
 },
 "nbformat": 4,
 "nbformat_minor": 5
}

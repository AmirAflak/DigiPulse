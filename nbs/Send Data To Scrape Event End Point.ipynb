{
 "cells": [
  {
   "cell_type": "code",
   "execution_count": null,
   "id": "f0f9aa67-1cb0-488b-a44f-73094285f8b0",
   "metadata": {},
   "outputs": [],
   "source": [
    "import requests"
   ]
  },
  {
   "cell_type": "code",
   "execution_count": null,
   "id": "592b3ddc-5276-49ea-a760-068ade52674c",
   "metadata": {},
   "outputs": [],
   "source": [
    "base_url = \"https://c8ed-34-90-110-136.ngrok-free.app\"\n",
    "path = \"/events/scrape\""
   ]
  },
  {
   "cell_type": "code",
   "execution_count": null,
   "id": "549949f4-e642-402c-9d4b-def4de514ba5",
   "metadata": {},
   "outputs": [],
   "source": [
    "r = requests.post(f\"{base_url}{path}\", \n",
    "                  json={\"dkp\": \"testttt_http\",\n",
    "                        \"title\": \"new record ! !\",\n",
    "                        \"price_str\": \"15000\",\n",
    "                       })"
   ]
  },
  {
   "cell_type": "code",
   "execution_count": null,
   "id": "c7c299da-a4e3-49bd-9b47-e2dd13604a70",
   "metadata": {},
   "outputs": [],
   "source": [
    "r.json()"
   ]
  },
  {
   "cell_type": "code",
   "execution_count": null,
   "id": "e7dc9938-e48b-43ca-8ae5-b17baa7664d3",
   "metadata": {},
   "outputs": [],
   "source": [
    "endpoint2 = \"http://localhost:8000/products/test_http\"\n",
    "r2 = requests.get(endpoint2)\n",
    "r2.json()"
   ]
  },
  {
   "cell_type": "code",
   "execution_count": null,
   "id": "1196f645-2a34-44b9-ac94-fafa0a14b262",
   "metadata": {},
   "outputs": [],
   "source": []
  },
  {
   "cell_type": "code",
   "execution_count": null,
   "id": "74af0163-b8a1-4bd2-8508-9792dd90a620",
   "metadata": {},
   "outputs": [],
   "source": []
  }
 ],
 "metadata": {
  "kernelspec": {
   "display_name": "Python 3 (ipykernel)",
   "language": "python",
   "name": "python3"
  },
  "language_info": {
   "codemirror_mode": {
    "name": "ipython",
    "version": 3
   },
   "file_extension": ".py",
   "mimetype": "text/x-python",
   "name": "python",
   "nbconvert_exporter": "python",
   "pygments_lexer": "ipython3",
   "version": "3.10.12"
  }
 },
 "nbformat": 4,
 "nbformat_minor": 5
}

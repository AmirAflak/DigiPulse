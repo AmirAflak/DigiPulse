{
 "cells": [
  {
   "cell_type": "code",
   "execution_count": 1,
   "id": "7d10d3fb-37c3-44d6-ae39-ce1206728c3d",
   "metadata": {},
   "outputs": [
    {
     "name": "stdout",
     "output_type": "stream",
     "text": [
      "/home/mehrdad/DigiPulse/nbs\n"
     ]
    }
   ],
   "source": [
    "!pwd"
   ]
  },
  {
   "cell_type": "code",
   "execution_count": 2,
   "id": "e8851818-040d-45d3-8a20-4dc8fb3d4eac",
   "metadata": {},
   "outputs": [
    {
     "name": "stdout",
     "output_type": "stream",
     "text": [
      "/home/mehrdad/DigiPulse\n"
     ]
    }
   ],
   "source": [
    "cd ../"
   ]
  },
  {
   "cell_type": "code",
   "execution_count": 3,
   "id": "7d2e4686-22b5-40c5-a037-458b81c76015",
   "metadata": {},
   "outputs": [],
   "source": [
    "from app import db, worker\n",
    "from bs4 import BeautifulSoup"
   ]
  },
  {
   "cell_type": "code",
   "execution_count": 4,
   "id": "209b8a51-b4e9-41e3-a21b-8845985dd462",
   "metadata": {},
   "outputs": [],
   "source": [
    "session = db.get_session()"
   ]
  },
  {
   "cell_type": "code",
   "execution_count": 5,
   "id": "b068af93-9ef8-4335-ac90-8792b68186ce",
   "metadata": {},
   "outputs": [],
   "source": [
    "# url = \"https://www.digikala.com/product/dkp-11153044\"\n",
    "url = \"https://www.digikala.com/search/category-mobile-phone/product-list/\"\n",
    "dkp ='dkp-2271206'"
   ]
  },
  {
   "cell_type": "code",
   "execution_count": 6,
   "id": "1b2abf3e-85a2-430a-a165-86acc312a2fe",
   "metadata": {
    "scrolled": true
   },
   "outputs": [
    {
     "name": "stdout",
     "output_type": "stream",
     "text": [
      "Doing Scraping Job...\n",
      "it's first time !!!\n",
      "dkp_list=['dkp-8366616', 'dkp-11153044', 'dkp-10738143', 'dkp-7475119', 'dkp-11346304', 'dkp-10849401', 'dkp-11226545', 'dkp-11578866', 'dkp-11103764', 'dkp-10940394', 'dkp-10631965', 'dkp-11428901', 'dkp-10937960', 'dkp-10940362', 'dkp-11274529', 'dkp-10402620', 'dkp-11159286', 'dkp-10741540', 'dkp-11167350', 'dkp-6768092', 'dkp-9510040', 'dkp-10673361', 'dkp-10876579', 'dkp-12152444', 'dkp-11346346', 'dkp-11715642', 'dkp-11346266', 'dkp-11341226', 'dkp-12433865', 'dkp-9125271', 'dkp-9197264', 'dkp-12212151', 'dkp-11103849', 'dkp-10951030', 'dkp-4667388', 'dkp-10759493', 'dkp-10940330', 'dkp-9633023', 'dkp-11499375', 'dkp-11159306', 'dkp-10741745', 'dkp-8119459', 'dkp-9759409', 'dkp-6459894', 'dkp-11427742', 'dkp-11511876', 'dkp-10403039', 'dkp-7384166', 'dkp-9930019', 'dkp-6925294', 'dkp-5530797', 'dkp-8123707', 'dkp-11281765', 'dkp-12322240', 'dkp-12219669', 'dkp-12082827', 'dkp-11645168', 'dkp-11623806', 'dkp-12085945', 'dkp-10937992', 'dkp-7845361', 'dkp-11502868', 'dkp-7986658', 'dkp-12156236', 'dkp-10251419', 'dkp-11273751', 'dkp-9118711', 'dkp-6813389', 'dkp-11341777', 'dkp-10375296', 'dkp-8379059', 'dkp-10310384', 'dkp-8364953', 'dkp-12219796', 'dkp-7855805', 'dkp-11205904', 'dkp-8695838', 'dkp-9358270', 'dkp-12210167', 'dkp-11272826', 'dkp-12376940', 'dkp-9862160', 'dkp-10658128', 'dkp-8123753', 'dkp-8796893', 'dkp-9966610', 'dkp-8169649', 'dkp-9172042', 'dkp-10310708', 'dkp-9950935', 'dkp-3555626', 'dkp-9001307', 'dkp-8627776', 'dkp-8636106', 'dkp-12017236', 'dkp-11763327', 'dkp-7051551', 'dkp-9000958', 'dkp-10044754', 'dkp-9678517', 'dkp-9651224', 'dkp-9639847', 'dkp-2261669', 'dkp-11275232', 'dkp-10443781', 'dkp-8182784', 'dkp-10444467', 'dkp-11778941', 'dkp-9661842', 'dkp-12096073', 'dkp-3246506', 'dkp-9582548', 'dkp-10403200', 'dkp-8107063', 'dkp-8093113', 'dkp-7051685', 'dkp-12096613', 'dkp-12301226', 'dkp-11971147', 'dkp-9865926', 'dkp-9805998', 'dkp-12223768', 'dkp-8478350', 'dkp-10377403', 'dkp-7418644', 'dkp-11049753', 'dkp-10939946', 'dkp-8642963', 'dkp-9118043', 'dkp-11578379', 'dkp-11510963', 'dkp-11490357', 'dkp-11103829', 'dkp-11498216', 'dkp-10002298', 'dkp-11151891', 'dkp-8365665', 'dkp-8407810', 'dkp-9681959', 'dkp-11590932', 'dkp-9858303', 'dkp-6460973', 'dkp-7178377', 'dkp-6459893', 'dkp-9678002', 'dkp-10731997', 'dkp-3388781', 'dkp-7788802', 'dkp-3738701', 'dkp-12157897', 'dkp-10418520', 'dkp-7845430', 'dkp-9434409', 'dkp-2087200', 'dkp-8587896', 'dkp-11971192', 'dkp-7116243', 'dkp-10632768', 'dkp-9638939', 'dkp-12224095', 'dkp-9669100', 'dkp-10227845', 'dkp-7714816', 'dkp-11763173', 'dkp-216624', 'dkp-5195673', 'dkp-8408128', 'dkp-9570265', 'dkp-9092609', 'dkp-10718056', 'dkp-6244698', 'dkp-9504755', 'dkp-11511963', 'dkp-10402287', 'dkp-11260088', 'dkp-9805951', 'dkp-9857923', 'dkp-3341857', 'dkp-12065624', 'dkp-9674289', 'dkp-10731909', 'dkp-11511768', 'dkp-8414889', 'dkp-10517266', 'dkp-12298449', 'dkp-9662519', 'dkp-10830773', 'dkp-9662086', 'dkp-10286327', 'dkp-4244447', 'dkp-8360722', 'dkp-3388999', 'dkp-11000745', 'dkp-10579283', 'dkp-7179563', 'dkp-10673627', 'dkp-12083470', 'dkp-10434792', 'dkp-11408556', 'dkp-12507273']\n"
     ]
    }
   ],
   "source": [
    "worker.scrape_products(url)"
   ]
  },
  {
   "cell_type": "code",
   "execution_count": null,
   "id": "640c6e62-0cb8-4257-90ed-9f255b522e7b",
   "metadata": {},
   "outputs": [],
   "source": []
  }
 ],
 "metadata": {
  "kernelspec": {
   "display_name": "Python 3 (ipykernel)",
   "language": "python",
   "name": "python3"
  },
  "language_info": {
   "codemirror_mode": {
    "name": "ipython",
    "version": 3
   },
   "file_extension": ".py",
   "mimetype": "text/x-python",
   "name": "python",
   "nbconvert_exporter": "python",
   "pygments_lexer": "ipython3",
   "version": "3.10.12"
  }
 },
 "nbformat": 4,
 "nbformat_minor": 5
}

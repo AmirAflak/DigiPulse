{
 "cells": [
  {
   "cell_type": "code",
   "execution_count": 1,
   "id": "7d10d3fb-37c3-44d6-ae39-ce1206728c3d",
   "metadata": {},
   "outputs": [
    {
     "name": "stdout",
     "output_type": "stream",
     "text": [
      "/home/mehrdad/DigiPulse/nbs\n"
     ]
    }
   ],
   "source": [
    "!pwd"
   ]
  },
  {
   "cell_type": "code",
   "execution_count": 2,
   "id": "e8851818-040d-45d3-8a20-4dc8fb3d4eac",
   "metadata": {},
   "outputs": [
    {
     "name": "stdout",
     "output_type": "stream",
     "text": [
      "/home/mehrdad/DigiPulse\n"
     ]
    }
   ],
   "source": [
    "cd ../"
   ]
  },
  {
   "cell_type": "code",
   "execution_count": 3,
   "id": "7d2e4686-22b5-40c5-a037-458b81c76015",
   "metadata": {},
   "outputs": [],
   "source": [
    "from app import db, worker\n",
    "from bs4 import BeautifulSoup"
   ]
  },
  {
   "cell_type": "code",
   "execution_count": 4,
   "id": "209b8a51-b4e9-41e3-a21b-8845985dd462",
   "metadata": {},
   "outputs": [],
   "source": [
    "session = db.get_session()"
   ]
  },
  {
   "cell_type": "code",
   "execution_count": 5,
   "id": "b068af93-9ef8-4335-ac90-8792b68186ce",
   "metadata": {},
   "outputs": [],
   "source": [
    "url = \"https://www.digikala.com/product/dkp-749878\"\n",
    "dkp ='dkp-749878'"
   ]
  },
  {
   "cell_type": "code",
   "execution_count": 6,
   "id": "1b2abf3e-85a2-430a-a165-86acc312a2fe",
   "metadata": {},
   "outputs": [
    {
     "data": {
      "text/plain": [
       "<AsyncResult: 2de88340-2ce8-4c45-881e-9c0bb63ddb90>"
      ]
     },
     "execution_count": 6,
     "metadata": {},
     "output_type": "execute_result"
    }
   ],
   "source": [
    "worker.scrape_dkp.delay(dkp)"
   ]
  },
  {
   "cell_type": "code",
   "execution_count": null,
   "id": "c3ae1b76-989f-4d2d-b918-125c57bca1f9",
   "metadata": {},
   "outputs": [],
   "source": []
  },
  {
   "cell_type": "code",
   "execution_count": null,
   "id": "287a23a2-b543-4c26-b762-888f7eb1ff45",
   "metadata": {},
   "outputs": [],
   "source": []
  },
  {
   "cell_type": "code",
   "execution_count": null,
   "id": "6c8f6bdf-abc8-40ed-9423-a304b592f192",
   "metadata": {},
   "outputs": [],
   "source": []
  },
  {
   "cell_type": "code",
   "execution_count": null,
   "id": "0ff7f91b-21f5-4d40-a568-a5ad4ec19a29",
   "metadata": {},
   "outputs": [],
   "source": []
  }
 ],
 "metadata": {
  "kernelspec": {
   "display_name": "Python 3 (ipykernel)",
   "language": "python",
   "name": "python3"
  },
  "language_info": {
   "codemirror_mode": {
    "name": "ipython",
    "version": 3
   },
   "file_extension": ".py",
   "mimetype": "text/x-python",
   "name": "python",
   "nbconvert_exporter": "python",
   "pygments_lexer": "ipython3",
   "version": "3.10.12"
  }
 },
 "nbformat": 4,
 "nbformat_minor": 5
}
